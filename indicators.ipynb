{
 "cells": [
  {
   "cell_type": "code",
   "execution_count": 1,
   "metadata": {},
   "outputs": [],
   "source": [
    "import pandas as pd\n",
    "import matplotlib as pt\n",
    "import requests\n",
    "import yfinance as yf\n",
    "import alpaca_trade_api as tradeapi\n",
    "from tradingview_ta import TA_Handler, Interval"
   ]
  },
  {
   "cell_type": "code",
   "execution_count": 3,
   "metadata": {},
   "outputs": [],
   "source": [
    "# Alpaca API config stuff\n",
    "\n",
    "APCA_API_BASE_URL = 'https://paper-api.alpaca.markets'\n",
    "APCA_MARKET_DATA = 'https://data.alpaca.markets/v1'\n",
    "APCA_API_KEY = 'PKDQTHU4Z3R8ZTXFOGXN'\n",
    "APCA_SECRET_KEY = 'FBE3WStDzqd6WFATRUVQbDLRlht0E6p7kO6gLOdB'\n",
    "\n",
    "api = tradeapi.REST(APCA_API_KEY, APCA_SECRET_KEY, APCA_API_BASE_URL)"
   ]
  },
  {
   "cell_type": "code",
   "execution_count": 4,
   "metadata": {},
   "outputs": [],
   "source": [
    "# TradingView Wrapper config stuff\n",
    "\n",
    "short_handler = TA_Handler()\n",
    "short_handler.set_interval_as(Interval.INTERVAL_1_WEEK)\n",
    "short_handler.set_exchange_as_crypto_or_stock('NASDAQ')\n",
    "short_handler.set_screener_as_stock('america')\n",
    "\n",
    "long_handler = TA_Handler()\n",
    "long_handler.set_interval_as(Interval.INTERVAL_1_MONTH)"
   ]
  },
  {
   "cell_type": "code",
   "execution_count": 5,
   "metadata": {},
   "outputs": [],
   "source": [
    "# Finnhub API config stuff\n",
    "# Real API Key: bvlaifv48v6sqkppd2e0\n",
    "# Sandbox API Key: sandbox_bvlaifv48v6sqkppd2eg\n",
    "\n",
    "# fib = finnhub.Client(api_key='bvlaifv48v6sqkppd2e0')\n",
    "\n",
    "# IEX API config stuff\n",
    "\n",
    "# IEX_CLOUD_API_KEY = 'Tpk_12e6eee6ed7d4026a0a87dee063b86bd'\n",
    "# IEX_CLOUD_SECRET_KEY = 'Tsk_620c4eafd98f479f990e532c3a0b2cb0'\n",
    "# SANDBOX_BASE_URL = 'https://sandbox.iexapis.com/stable/'"
   ]
  },
  {
   "cell_type": "code",
   "execution_count": null,
   "metadata": {},
   "outputs": [],
   "source": []
  },
  {
   "cell_type": "code",
   "execution_count": 6,
   "metadata": {},
   "outputs": [],
   "source": [
    "# 50-day SMA\n",
    "\n",
    "def fifty_day_sma(ticker):\n",
    "    FIFTY = 50.\n",
    "    curr_date = str(datetime.now()).split()[0]\n",
    "    year_ago = str(datetime.now() - timedelta(days=365)).split()[0]\n",
    "    ticker_info = yf.Ticker(ticker)\n",
    " \n",
    "    one_year_price_history = ticker_info.history(start=year_ago, end=curr_date)\n",
    "    fifty_day_moving_average = one_year_price_history.iloc[-50:]['Close'].sum() / FIFTY\n",
    "    return fifty_day_moving_average"
   ]
  },
  {
   "cell_type": "code",
   "execution_count": 7,
   "metadata": {},
   "outputs": [],
   "source": [
    "# 200-day SMA\n",
    "\n",
    "def two_hundred_day_sma(ticker):\n",
    "    TWO_HUNDRED = 200.\n",
    "    curr_date = str(datetime.now()).split()[0]\n",
    "    year_ago = str(datetime.now() - timedelta(days=365)).split()[0]\n",
    "    ticker_info = yf.Ticker(ticker)\n",
    "\n",
    "    one_year_price_history = ticker_info.history(start=year_ago, end=curr_date)\n",
    "    two_hundred_day_moving_average = one_year_price_history.iloc[-200:]['Close'].sum() / TWO_HUNDRED\n",
    "    return two_hundred_day_moving_average"
   ]
  },
  {
   "cell_type": "code",
   "execution_count": 8,
   "metadata": {},
   "outputs": [],
   "source": [
    "# checks if there is a Golden Cross (50-day SMA crosses 200-day SMA)\n",
    "\n",
    "def golden_cross(ticker):\n",
    "    fifty_sma = fifty_day_sma(ticker)\n",
    "    two_hundred_sma = two_hundred_day_sma(ticker)\n",
    "    \n",
    "    if fifty_sma > two_hundred_sma:\n",
    "        return True\n",
    "    return False"
   ]
  },
  {
   "cell_type": "code",
   "execution_count": 9,
   "metadata": {},
   "outputs": [],
   "source": [
    "# test SMAs + Golden Cross\n",
    "# print(fifty_day_sma('PLTR'), two_hundred_day_sma('PLTR'), golden_cross('PLTR'))"
   ]
  },
  {
   "cell_type": "code",
   "execution_count": null,
   "metadata": {},
   "outputs": [],
   "source": []
  },
  {
   "cell_type": "code",
   "execution_count": 10,
   "metadata": {},
   "outputs": [],
   "source": [
    "# calculates 14-day MFI for specified stock\n",
    "\n",
    "def mfi(ticker):\n",
    "    curr_date = str(datetime.now()).split()[0]\n",
    "    fifty_days_ago = str(datetime.now() - timedelta(days=50)).split()[0]\n",
    "    ticker_info = yf.Ticker(ticker)\n",
    "    one_year_price_history = ticker_info.history(start=fifty_days_ago, end=curr_date)\n",
    "    two_week_ph = one_year_price_history[-14:]\n",
    "    \n",
    "    two_week_ph = two_week_ph.assign(TP = lambda tp:(two_week_ph['High'] + two_week_ph['Low'] + two_week_ph['Close']) / 3.)\n",
    "    two_week_ph = two_week_ph.assign(RMF = lambda rmf: two_week_ph['TP'] * two_week_ph['Volume'])\n",
    "\n",
    "    positive_rmf = 0\n",
    "    negative_rmf = 0\n",
    "    \n",
    "    for i in range(1, len(two_week_ph['TP'])):\n",
    "        if two_week_ph['TP'].iloc[i] > two_week_ph['TP'].iloc[i - 1]:\n",
    "            positive_rmf += two_week_ph['RMF'].iloc[i]\n",
    "        else:\n",
    "            negative_rmf += two_week_ph['RMF'].iloc[i]\n",
    "        \n",
    "#     two_week_ph = two_week_ph.assign(TP_Diff = [1 if x == 1 else -1 for x in tp_diff])\n",
    "    \n",
    "    mf_ratio = positive_rmf / negative_rmf\n",
    "    \n",
    "    money_flow_index = 100 - (100 / (1 + mf_ratio))\n",
    "\n",
    "    return money_flow_index"
   ]
  },
  {
   "cell_type": "code",
   "execution_count": 11,
   "metadata": {},
   "outputs": [],
   "source": [
    "# testing MFI\n",
    "\n",
    "# print(mfi('AAPL'), mfi('MSFT'), mfi('TGT'), mfi('WDAY'), mfi('GME'))"
   ]
  },
  {
   "cell_type": "code",
   "execution_count": null,
   "metadata": {},
   "outputs": [],
   "source": []
  },
  {
   "cell_type": "code",
   "execution_count": null,
   "metadata": {},
   "outputs": [],
   "source": []
  },
  {
   "cell_type": "code",
   "execution_count": null,
   "metadata": {},
   "outputs": [],
   "source": []
  },
  {
   "cell_type": "code",
   "execution_count": 12,
   "metadata": {},
   "outputs": [],
   "source": [
    "# # 200-day EMA\n",
    "\n",
    "# def macd(ticker):\n",
    "# #     return fib.technical_indicator(symbol=ticker, resolution='30', _from=1601371800 , to=1606642200 , indicator='macd', seriestype='c')\n",
    "# #     resp = requests.get('https://finnhub.io/api/v1/indicator?symbol=MRVL&resolution=D&from=1606642200&to=1609234200&indicator=ema&&timeperiod=1token=sandbox_bvlaifv48v6sqkppd2eg')\n",
    "# #     return resp.json()\n",
    "#     return finnhub_client.technical_indicator(symbol=ticker, resolution='D', _from=1583098857, to=1584308457, indicator='ema', indicator_fields={\"timeperiod\": 5})"
   ]
  },
  {
   "cell_type": "code",
   "execution_count": 13,
   "metadata": {
    "scrolled": false
   },
   "outputs": [],
   "source": [
    "# macd('MRVL')"
   ]
  },
  {
   "cell_type": "code",
   "execution_count": 14,
   "metadata": {},
   "outputs": [],
   "source": [
    "# calculates Relative Strength Index for specified stock\n",
    "# from datetime import timezone\n",
    "\n",
    "#     print(finnhub_client.technical_indicator(ticker, resolution='W', _from=  indicator='RSI'))\n",
    "\n",
    "# def rsi(ticker):\n",
    "#     dt = datetime(2020, 12, 28)\n",
    "#     start_timestamp = int(dt.replace(tzinfo=timezone.utc).timestamp())\n",
    "#     dte = datetime(2020, 12, 29)\n",
    "#     end_timestamp = int(dte.replace(tzinfo=timezone.utc).timestamp())\n",
    "#     print(start_timestamp, end_timestamp)\n",
    "    \n",
    "#     print(finnhub_client.aggregate_indicator('MSFT', 'D'))\n",
    "    \n",
    "#     print(finnhub_client.technical_indicator(symbol=\"AAPL\", resolution='D', _from=1583098857, to=1584308457, indicator='rsi', indicator_fields={\"timeperiod\": 3}))"
   ]
  },
  {
   "cell_type": "code",
   "execution_count": 15,
   "metadata": {},
   "outputs": [],
   "source": [
    "# rsi('AAPL')"
   ]
  },
  {
   "cell_type": "code",
   "execution_count": 172,
   "metadata": {},
   "outputs": [],
   "source": []
  },
  {
   "cell_type": "code",
   "execution_count": 16,
   "metadata": {},
   "outputs": [
    {
     "data": {
      "text/plain": [
       "{'Recommend.Other': -0.09090909,\n",
       " 'Recommend.All': 0.35454545,\n",
       " 'Recommend.MA': 0.8,\n",
       " 'RSI': 59.08447079,\n",
       " 'RSI[1]': 59.34203245,\n",
       " 'Stoch.K': 77.04422998,\n",
       " 'Stoch.D': 71.75642151,\n",
       " 'Stoch.K[1]': 73.74332004,\n",
       " 'Stoch.D[1]': 65.29031228,\n",
       " 'CCI20': 90.0472573,\n",
       " 'CCI20[1]': 104.16742011,\n",
       " 'ADX': 23.1872319,\n",
       " 'ADX+DI': 24.79575978,\n",
       " 'ADX-DI': 13.43675152,\n",
       " 'ADX+DI[1]': 25.00965918,\n",
       " 'ADX-DI[1]': 14.13281553,\n",
       " 'AO': 10.20282029,\n",
       " 'AO[1]': 9.56276147,\n",
       " 'Mom': 19.95,\n",
       " 'Mom[1]': 6.52,\n",
       " 'MACD.macd': 6.63713594,\n",
       " 'MACD.signal': 7.16768846,\n",
       " 'Rec.Stoch.RSI': 0,\n",
       " 'Stoch.RSI.K': 64.77005652,\n",
       " 'Rec.WR': 0,\n",
       " 'W.R': -20,\n",
       " 'Rec.BBPower': 0,\n",
       " 'BBPower': 14.09832342,\n",
       " 'Rec.UO': 0,\n",
       " 'UO': 59.89983581,\n",
       " 'close': 222.42,\n",
       " 'EMA5': 219.87050405,\n",
       " 'SMA5': 219.122,\n",
       " 'EMA10': 217.56011668,\n",
       " 'SMA10': 217.582,\n",
       " 'EMA20': 213.26465003,\n",
       " 'SMA20': 214.579,\n",
       " 'EMA30': 207.91787389,\n",
       " 'SMA30': 211.55266667,\n",
       " 'EMA50': 196.51865664,\n",
       " 'SMA50': 195.8066,\n",
       " 'EMA100': 172.13896022,\n",
       " 'SMA100': 166.0717,\n",
       " 'EMA200': 139.32443877,\n",
       " 'SMA200': 128.03065,\n",
       " 'Rec.Ichimoku': 0,\n",
       " 'Ichimoku.BLine': 214.555,\n",
       " 'Rec.VWMA': 1,\n",
       " 'VWMA': 213.88318399,\n",
       " 'Rec.HullMA9': -1,\n",
       " 'HullMA9': 222.52785185,\n",
       " 'Pivot.M.Classic.S3': 20.61,\n",
       " 'Pivot.M.Classic.S2': 80.36,\n",
       " 'Pivot.M.Classic.S1': 119.49,\n",
       " 'Pivot.M.Classic.Middle': 140.11,\n",
       " 'Pivot.M.Classic.R1': 179.24,\n",
       " 'Pivot.M.Classic.R2': 199.86,\n",
       " 'Pivot.M.Classic.R3': 259.61,\n",
       " 'Pivot.M.Fibonacci.S3': 80.36,\n",
       " 'Pivot.M.Fibonacci.S2': 103.1845,\n",
       " 'Pivot.M.Fibonacci.S1': 117.2855,\n",
       " 'Pivot.M.Fibonacci.Middle': 140.11,\n",
       " 'Pivot.M.Fibonacci.R1': 162.9345,\n",
       " 'Pivot.M.Fibonacci.R2': 177.0355,\n",
       " 'Pivot.M.Fibonacci.R3': 199.86,\n",
       " 'Pivot.M.Camarilla.S3': 142.18875,\n",
       " 'Pivot.M.Camarilla.S2': 147.66583333,\n",
       " 'Pivot.M.Camarilla.S1': 153.14291667,\n",
       " 'Pivot.M.Camarilla.Middle': 140.11,\n",
       " 'Pivot.M.Camarilla.R1': 164.09708333,\n",
       " 'Pivot.M.Camarilla.R2': 169.57416667,\n",
       " 'Pivot.M.Camarilla.R3': 175.05125,\n",
       " 'Pivot.M.Woodie.S3': 67.455,\n",
       " 'Pivot.M.Woodie.S2': 84.2175,\n",
       " 'Pivot.M.Woodie.S1': 127.205,\n",
       " 'Pivot.M.Woodie.Middle': 143.9675,\n",
       " 'Pivot.M.Woodie.R1': 186.955,\n",
       " 'Pivot.M.Woodie.R2': 203.7175,\n",
       " 'Pivot.M.Woodie.R3': 246.705,\n",
       " 'Pivot.M.Demark.S1': 129.8,\n",
       " 'Pivot.M.Demark.Middle': 145.265,\n",
       " 'Pivot.M.Demark.R1': 189.55}"
      ]
     },
     "execution_count": 16,
     "metadata": {},
     "output_type": "execute_result"
    }
   ],
   "source": [
    "short_handler.set_symbol_as('MSFT')\n",
    "\n",
    "msft = short_handler.get_analysis().indicators\n",
    "msft"
   ]
  },
  {
   "cell_type": "code",
   "execution_count": 8,
   "metadata": {},
   "outputs": [
    {
     "name": "stdout",
     "output_type": "stream",
     "text": [
      "{'zip': '98052-6399', 'sector': 'Technology', 'fullTimeEmployees': 163000, 'longBusinessSummary': 'Microsoft Corporation develops, licenses, and supports software, services, devices, and solutions worldwide. Its Productivity and Business Processes segment offers Office, Exchange, SharePoint, Microsoft Teams, Office 365 Security and Compliance, and Skype for Business, as well as related Client Access Licenses (CAL); Skype, Outlook.com, OneDrive, and LinkedIn; and Dynamics 365, a set of cloud-based and on-premises business solutions for small and medium businesses, large organizations, and divisions of enterprises. Its Intelligent Cloud segment licenses SQL and Windows Servers, Visual Studio, System Center, and related CALs; GitHub that provides a collaboration platform and code hosting service for developers; and Azure, a cloud platform. It also offers support services and Microsoft consulting services to assist customers in developing, deploying, and managing Microsoft server and desktop solutions; and training and certification to developers and IT professionals on various Microsoft products. Its More Personal Computing segment provides Windows original equipment manufacturer (OEM) licensing and other non-volume licensing of the Windows operating system; Windows Commercial, such as volume licensing of the Windows operating system, Windows cloud services, and other Windows commercial offerings; patent licensing; Windows Internet of Things; and MSN advertising. It also offers Surface, PC accessories, PCs, tablets, gaming and entertainment consoles, and other devices; Gaming, including Xbox hardware, and Xbox content and services; video games and third-party video game royalties; and Search, including Bing and Microsoft advertising. It sells its products through OEMs, distributors, and resellers; and directly through digital marketplaces, online stores, and retail stores. It has a strategic collaboration with DXC Technology. The company was founded in 1975 and is headquartered in Redmond, Washington.', 'city': 'Redmond', 'phone': '425-882-8080', 'state': 'WA', 'country': 'United States', 'companyOfficers': [], 'website': 'http://www.microsoft.com', 'maxAge': 1, 'address1': 'One Microsoft Way', 'industry': 'Software—Infrastructure', 'previousClose': 221.68, 'regularMarketOpen': 221.7, 'twoHundredDayAverage': 211.38072, 'trailingAnnualDividendYield': 0.009428004, 'payoutRatio': 0.32900003, 'volume24Hr': None, 'regularMarketDayHigh': 223, 'navPrice': None, 'averageDailyVolume10Day': 17631016, 'totalAssets': None, 'regularMarketPreviousClose': 221.68, 'fiftyDayAverage': 216.49757, 'trailingAnnualDividendRate': 2.09, 'open': 221.7, 'toCurrency': None, 'averageVolume10days': 17631016, 'expireDate': None, 'yield': None, 'algorithm': None, 'dividendRate': 2.24, 'exDividendDate': 1613520000, 'beta': 0.823097, 'circulatingSupply': None, 'startDate': None, 'regularMarketDayLow': 219.68, 'priceHint': 2, 'currency': 'USD', 'trailingPE': 35.879982, 'regularMarketVolume': 19970418, 'lastMarket': None, 'maxSupply': None, 'openInterest': None, 'marketCap': 1681606443008, 'volumeAllCurrencies': None, 'strikePrice': None, 'averageVolume': 28138244, 'priceToSalesTrailing12Months': 11.430635, 'dayLow': 219.68, 'ask': 222.52, 'ytdReturn': None, 'askSize': 1000, 'volume': 19970418, 'fiftyTwoWeekHigh': 232.86, 'forwardPE': 29.7751, 'fromCurrency': None, 'fiveYearAvgDividendYield': 1.73, 'fiftyTwoWeekLow': 132.52, 'bid': 222.5, 'tradeable': False, 'dividendYield': 0.0101, 'bidSize': 800, 'dayHigh': 223, 'exchange': 'NMS', 'shortName': 'Microsoft Corporation', 'longName': 'Microsoft Corporation', 'exchangeTimezoneName': 'America/New_York', 'exchangeTimezoneShortName': 'EST', 'isEsgPopulated': False, 'gmtOffSetMilliseconds': '-18000000', 'quoteType': 'EQUITY', 'symbol': 'MSFT', 'messageBoardId': 'finmb_21835', 'market': 'us_market', 'annualHoldingsTurnover': None, 'enterpriseToRevenue': 11.059, 'beta3Year': None, 'profitMargins': 0.32285, 'enterpriseToEbitda': 23.881, '52WeekChange': 0.39860404, 'morningStarRiskRating': None, 'forwardEps': 7.47, 'revenueQuarterlyGrowth': None, 'sharesOutstanding': 7560500224, 'fundInceptionDate': None, 'annualReportExpenseRatio': None, 'bookValue': 16.313, 'sharesShort': 39913925, 'sharesPercentSharesOut': 0.0053, 'fundFamily': None, 'lastFiscalYearEnd': 1593475200, 'heldPercentInstitutions': 0.71841, 'netIncomeToCommon': 47495999488, 'trailingEps': 6.199, 'lastDividendValue': 0.56, 'SandP52WeekChange': 0.15703821, 'priceToBook': 13.634524, 'heldPercentInsiders': 0.00059, 'nextFiscalYearEnd': 1656547200, 'mostRecentQuarter': 1601424000, 'shortRatio': 1.52, 'sharesShortPreviousMonthDate': 1605225600, 'floatShares': 7449961518, 'enterpriseValue': 1626872479744, 'threeYearAverageReturn': None, 'lastSplitDate': 1045526400, 'lastSplitFactor': '2:1', 'legalType': None, 'lastDividendDate': 1605657600, 'morningStarOverallRating': None, 'earningsQuarterlyGrowth': 0.301, 'dateShortInterest': 1607990400, 'pegRatio': 2.26, 'lastCapGain': None, 'shortPercentOfFloat': 0.0053, 'sharesShortPriorMonth': 34066185, 'impliedSharesOutstanding': None, 'category': None, 'fiveYearAverageReturn': None, 'regularMarketPrice': 221.7, 'logo_url': 'https://logo.clearbit.com/microsoft.com'}\n"
     ]
    }
   ],
   "source": [
    "msft = yf.Ticker('MSFT')\n",
    "print(msft.info)"
   ]
  },
  {
   "cell_type": "code",
   "execution_count": null,
   "metadata": {},
   "outputs": [],
   "source": []
  }
 ],
 "metadata": {
  "kernelspec": {
   "display_name": "Python 3",
   "language": "python",
   "name": "python3"
  },
  "language_info": {
   "codemirror_mode": {
    "name": "ipython",
    "version": 3
   },
   "file_extension": ".py",
   "mimetype": "text/x-python",
   "name": "python",
   "nbconvert_exporter": "python",
   "pygments_lexer": "ipython3",
   "version": "3.8.2"
  }
 },
 "nbformat": 4,
 "nbformat_minor": 4
}
