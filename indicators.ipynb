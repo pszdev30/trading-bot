{
 "cells": [
  {
   "cell_type": "code",
   "execution_count": 1,
   "metadata": {},
   "outputs": [],
   "source": [
    "import pandas as pd\n",
    "import matplotlib as pt\n",
    "import alpaca_trade_api as tradeapi\n",
    "import requests\n",
    "import yfinance as yf\n",
    "from datetime import datetime, timedelta"
   ]
  },
  {
   "cell_type": "code",
   "execution_count": 3,
   "metadata": {},
   "outputs": [],
   "source": [
    "# Alpaca API config stuff\n",
    "\n",
    "APCA_API_BASE_URL = 'https://paper-api.alpaca.markets'\n",
    "APCA_MARKET_DATA = 'https://data.alpaca.markets/v1'\n",
    "APCA_API_KEY = 'PKDQTHU4Z3R8ZTXFOGXN'\n",
    "APCA_SECRET_KEY = 'FBE3WStDzqd6WFATRUVQbDLRlht0E6p7kO6gLOdB'\n",
    "\n",
    "api = tradeapi.REST(APCA_API_KEY, APCA_SECRET_KEY, APCA_API_BASE_URL)"
   ]
  },
  {
   "cell_type": "code",
   "execution_count": 4,
   "metadata": {},
   "outputs": [],
   "source": [
    "# IEX API config stuff\n",
    "\n",
    "IEX_CLOUD_API_KEY = 'Tpk_12e6eee6ed7d4026a0a87dee063b86bd'\n",
    "IEX_CLOUD_SECRET_KEY = 'Tsk_620c4eafd98f479f990e532c3a0b2cb0'\n",
    "SANDBOX_BASE_URL = 'https://sandbox.iexapis.com/stable/'"
   ]
  },
  {
   "cell_type": "code",
   "execution_count": 2,
   "metadata": {},
   "outputs": [],
   "source": [
    "# 50-day SMA\n",
    "\n",
    "def fifty_day_sma(ticker):\n",
    "    FIFTY = 50.\n",
    "    curr_date = str(datetime.now()).split()[0]\n",
    "    year_ago = str(datetime.now() - timedelta(days=365)).split()[0]\n",
    "    ticker_info = yf.Ticker(ticker)\n",
    " \n",
    "    one_year_price_history = ticker_info.history(start=year_ago, end=curr_date)\n",
    "    fifty_day_moving_average = one_year_price_history.iloc[-50:]['Close'].sum() / FIFTY\n",
    "    return fifty_day_moving_average"
   ]
  },
  {
   "cell_type": "code",
   "execution_count": 3,
   "metadata": {},
   "outputs": [],
   "source": [
    "# 200-day SMA\n",
    "\n",
    "def two_hundred_day_sma(ticker):\n",
    "    TWO_HUNDRED = 200.\n",
    "    curr_date = str(datetime.now()).split()[0]\n",
    "    year_ago = str(datetime.now() - timedelta(days=365)).split()[0]\n",
    "    ticker_info = yf.Ticker(ticker)\n",
    "\n",
    "    one_year_price_history = ticker_info.history(start=year_ago, end=curr_date)\n",
    "    two_hundred_day_moving_average = one_year_price_history.iloc[-200:]['Close'].sum() / TWO_HUNDRED\n",
    "    return two_hundred_day_moving_average"
   ]
  },
  {
   "cell_type": "code",
   "execution_count": null,
   "metadata": {},
   "outputs": [],
   "source": []
  }
 ],
 "metadata": {
  "kernelspec": {
   "display_name": "Python 3",
   "language": "python",
   "name": "python3"
  },
  "language_info": {
   "codemirror_mode": {
    "name": "ipython",
    "version": 3
   },
   "file_extension": ".py",
   "mimetype": "text/x-python",
   "name": "python",
   "nbconvert_exporter": "python",
   "pygments_lexer": "ipython3",
   "version": "3.8.2"
  }
 },
 "nbformat": 4,
 "nbformat_minor": 4
}
