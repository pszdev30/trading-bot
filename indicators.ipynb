{
 "cells": [
  {
   "cell_type": "code",
   "execution_count": 19,
   "metadata": {},
   "outputs": [],
   "source": [
    "import pandas as pd\n",
    "import matplotlib as pt\n",
    "import alpaca_trade_api as tradeapi\n",
    "import requests\n",
    "import yfinance as yf\n",
    "from datetime import datetime, timedelta"
   ]
  },
  {
   "cell_type": "code",
   "execution_count": 20,
   "metadata": {},
   "outputs": [],
   "source": [
    "# Alpaca API config stuff\n",
    "\n",
    "APCA_API_BASE_URL = 'https://paper-api.alpaca.markets'\n",
    "APCA_MARKET_DATA = 'https://data.alpaca.markets/v1'\n",
    "APCA_API_KEY = 'PKDQTHU4Z3R8ZTXFOGXN'\n",
    "APCA_SECRET_KEY = 'FBE3WStDzqd6WFATRUVQbDLRlht0E6p7kO6gLOdB'\n",
    "\n",
    "api = tradeapi.REST(APCA_API_KEY, APCA_SECRET_KEY, APCA_API_BASE_URL)"
   ]
  },
  {
   "cell_type": "code",
   "execution_count": 21,
   "metadata": {},
   "outputs": [],
   "source": [
    "# IEX API config stuff\n",
    "\n",
    "IEX_CLOUD_API_KEY = 'Tpk_12e6eee6ed7d4026a0a87dee063b86bd'\n",
    "IEX_CLOUD_SECRET_KEY = 'Tsk_620c4eafd98f479f990e532c3a0b2cb0'\n",
    "SANDBOX_BASE_URL = 'https://sandbox.iexapis.com/stable/'"
   ]
  },
  {
   "cell_type": "code",
   "execution_count": 22,
   "metadata": {},
   "outputs": [],
   "source": [
    "# 50-day SMA\n",
    "\n",
    "def fifty_day_sma(ticker):\n",
    "    FIFTY = 50.\n",
    "    curr_date = str(datetime.now()).split()[0]\n",
    "    year_ago = str(datetime.now() - timedelta(days=365)).split()[0]\n",
    "    ticker_info = yf.Ticker(ticker)\n",
    " \n",
    "    one_year_price_history = ticker_info.history(start=year_ago, end=curr_date)\n",
    "    fifty_day_moving_average = one_year_price_history.iloc[-50:]['Close'].sum() / FIFTY\n",
    "    return fifty_day_moving_average"
   ]
  },
  {
   "cell_type": "code",
   "execution_count": 23,
   "metadata": {},
   "outputs": [],
   "source": [
    "# 200-day SMA\n",
    "\n",
    "def two_hundred_day_sma(ticker):\n",
    "    TWO_HUNDRED = 200.\n",
    "    curr_date = str(datetime.now()).split()[0]\n",
    "    year_ago = str(datetime.now() - timedelta(days=365)).split()[0]\n",
    "    ticker_info = yf.Ticker(ticker)\n",
    "\n",
    "    one_year_price_history = ticker_info.history(start=year_ago, end=curr_date)\n",
    "    two_hundred_day_moving_average = one_year_price_history.iloc[-200:]['Close'].sum() / TWO_HUNDRED\n",
    "    return two_hundred_day_moving_average"
   ]
  },
  {
   "cell_type": "code",
   "execution_count": 24,
   "metadata": {},
   "outputs": [],
   "source": [
    "# checks if there is a Golden Cross (50-day SMA crosses 200-day SMA)\n",
    "\n",
    "def golden_cross(ticker):\n",
    "    fifty_sma = fifty_day_sma(ticker)\n",
    "    two_hundred_sma = two_hundred_day_sma(ticker)\n",
    "    \n",
    "    if fifty_sma > two_hundred_sma:\n",
    "        return True\n",
    "    return False"
   ]
  },
  {
   "cell_type": "code",
   "execution_count": 25,
   "metadata": {},
   "outputs": [
    {
     "name": "stdout",
     "output_type": "stream",
     "text": [
      "18.993400077819825 5.277050018310547 True\n"
     ]
    }
   ],
   "source": [
    "# test SMAs + Golden Cross\n",
    "# print(fifty_day_sma('PLTR'), two_hundred_day_sma('PLTR'), golden_cross('PLTR'))"
   ]
  },
  {
   "cell_type": "code",
   "execution_count": null,
   "metadata": {},
   "outputs": [],
   "source": []
  },
  {
   "cell_type": "code",
   "execution_count": 26,
   "metadata": {},
   "outputs": [],
   "source": [
    "# calculates 14-day MFI for specified stock\n",
    "\n",
    "def mfi(ticker):\n",
    "    curr_date = str(datetime.now()).split()[0]\n",
    "    fifty_days_ago = str(datetime.now() - timedelta(days=50)).split()[0]\n",
    "    ticker_info = yf.Ticker(ticker)\n",
    "    one_year_price_history = ticker_info.history(start=fifty_days_ago, end=curr_date)\n",
    "    two_week_ph = one_year_price_history[-14:]\n",
    "    \n",
    "    two_week_ph = two_week_ph.assign(TP = lambda tp:(two_week_ph['High'] + two_week_ph['Low'] + two_week_ph['Close']) / 3.)\n",
    "    two_week_ph = two_week_ph.assign(RMF = lambda rmf: two_week_ph['TP'] * two_week_ph['Volume'])\n",
    "\n",
    "    positive_rmf = 0\n",
    "    negative_rmf = 0\n",
    "    \n",
    "    for i in range(1, len(two_week_ph['TP'])):\n",
    "        if two_week_ph['TP'].iloc[i] > two_week_ph['TP'].iloc[i - 1]:\n",
    "            positive_rmf += two_week_ph['RMF'].iloc[i]\n",
    "        else:\n",
    "            negative_rmf += two_week_ph['RMF'].iloc[i]\n",
    "        \n",
    "#     two_week_ph = two_week_ph.assign(TP_Diff = [1 if x == 1 else -1 for x in tp_diff])\n",
    "    \n",
    "    mf_ratio = positive_rmf / negative_rmf\n",
    "    \n",
    "    money_flow_index = 100 - (100 / (1 + mf_ratio))\n",
    "\n",
    "    return money_flow_index"
   ]
  },
  {
   "cell_type": "code",
   "execution_count": 29,
   "metadata": {},
   "outputs": [],
   "source": [
    "# print(mfi('AAPL'), mfi('MSFT'), mfi('TGT'), mfi('WDAY'), mfi('GME'))"
   ]
  },
  {
   "cell_type": "code",
   "execution_count": null,
   "metadata": {},
   "outputs": [],
   "source": []
  },
  {
   "cell_type": "code",
   "execution_count": null,
   "metadata": {},
   "outputs": [],
   "source": [
    "# calculates Relative Strength Index for specified stock\n",
    "\n",
    "def rsi(ticker):\n",
    "    "
   ]
  }
 ],
 "metadata": {
  "kernelspec": {
   "display_name": "Python 3",
   "language": "python",
   "name": "python3"
  },
  "language_info": {
   "codemirror_mode": {
    "name": "ipython",
    "version": 3
   },
   "file_extension": ".py",
   "mimetype": "text/x-python",
   "name": "python",
   "nbconvert_exporter": "python",
   "pygments_lexer": "ipython3",
   "version": "3.8.2"
  }
 },
 "nbformat": 4,
 "nbformat_minor": 4
}
